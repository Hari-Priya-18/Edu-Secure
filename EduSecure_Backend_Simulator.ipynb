{
  "nbformat": 4,
  "nbformat_minor": 0,
  "metadata": {
    "colab": {
      "provenance": [],
      "authorship_tag": "ABX9TyNWnHvazmzF40UvQxsCANPv",
      "include_colab_link": true
    },
    "kernelspec": {
      "name": "python3",
      "display_name": "Python 3"
    },
    "language_info": {
      "name": "python"
    }
  },
  "cells": [
    {
      "cell_type": "markdown",
      "metadata": {
        "id": "view-in-github",
        "colab_type": "text"
      },
      "source": [
        "<a href=\"https://colab.research.google.com/github/Hari-Priya-18/Edu-Secure/blob/main/EduSecure_Backend_Simulator.ipynb\" target=\"_parent\"><img src=\"https://colab.research.google.com/assets/colab-badge.svg\" alt=\"Open In Colab\"/></a>"
      ]
    },
    {
      "cell_type": "markdown",
      "source": [
        "Step 1: Create Verified Numbers JSON"
      ],
      "metadata": {
        "id": "FYV1d99gL6uR"
      }
    },
    {
      "cell_type": "code",
      "execution_count": 1,
      "metadata": {
        "id": "BMEoJIBDJMtK"
      },
      "outputs": [],
      "source": [
        "import json\n",
        "\n",
        "verified_data = [\n",
        "    {\"number\": \"9876540321\", \"status\": \"Verified\", \"org\": \"SkillBoost Academy\"},\n",
        "    {\"number\": \"9123456780\", \"status\": \"Scam\", \"org\": \"Fake Course Seller\"},\n",
        "    {\"number\": \"8000000000\", \"status\": \"Unknown\", \"org\": \"\"}\n",
        "]\n",
        "\n",
        "with open(\"verified_numbers.json\", \"w\") as f:\n",
        "    json.dump(verified_data, f, indent=2)\n"
      ]
    },
    {
      "cell_type": "markdown",
      "source": [
        "Step 2: Create an Empty Report Database"
      ],
      "metadata": {
        "id": "v5zpfqtaMAj0"
      }
    },
    {
      "cell_type": "code",
      "source": [
        "scam_reports = []\n",
        "with open(\"scam_reports.json\", \"w\") as f:\n",
        "    json.dump(scam_reports, f, indent=2)\n"
      ],
      "metadata": {
        "id": "KI20KrGoK7iY"
      },
      "execution_count": 2,
      "outputs": []
    },
    {
      "cell_type": "markdown",
      "source": [
        " Step 3: Function to Lookup Number and Display Status"
      ],
      "metadata": {
        "id": "cYLKYTAqMKiX"
      }
    },
    {
      "cell_type": "code",
      "source": [
        "def lookup_number(phone):\n",
        "    with open(\"verified_numbers.json\", \"r\") as f:\n",
        "        data = json.load(f)\n",
        "\n",
        "    for entry in data:\n",
        "        if entry[\"number\"] == phone:\n",
        "            return entry\n",
        "    return {\"number\": phone, \"status\": \"Unknown\", \"org\": \"\"}\n"
      ],
      "metadata": {
        "id": "rQC2ShnkLCGA"
      },
      "execution_count": 3,
      "outputs": []
    },
    {
      "cell_type": "markdown",
      "source": [
        "Step 4: Input from User + Report Option\n"
      ],
      "metadata": {
        "id": "MMZKRnCYMQWN"
      }
    },
    {
      "cell_type": "code",
      "source": [
        "phone = input(\"Enter phone number to check: \")\n",
        "info = lookup_number(phone)\n",
        "\n",
        "print(f\"\\n📞 Number: {info['number']}\")\n",
        "print(f\"🔎 Status: {info['status']}\")\n",
        "if info[\"org\"]:\n",
        "    print(f\"🏢 Organization: {info['org']}\")\n",
        "\n",
        "# Ask user to report\n",
        "should_report = input(\"\\nDo you want to report this number? (yes/no): \").strip().lower()\n",
        "\n",
        "if should_report == \"yes\":\n",
        "    report = {\n",
        "        \"number\": info[\"number\"],\n",
        "        \"reason\": input(\"Enter reason for report: \")\n",
        "    }\n",
        "    with open(\"scam_reports.json\", \"r\") as f:\n",
        "        reports = json.load(f)\n",
        "\n",
        "    reports.append(report)\n",
        "\n",
        "    with open(\"scam_reports.json\", \"w\") as f:\n",
        "        json.dump(reports, f, indent=2)\n",
        "\n",
        "    print(\"\\n✅ Report submitted!\")\n"
      ],
      "metadata": {
        "colab": {
          "base_uri": "https://localhost:8080/"
        },
        "id": "XVvB4peCLEsu",
        "outputId": "6e126e5f-91c0-4bc2-ed21-b044c1bec66c"
      },
      "execution_count": 5,
      "outputs": [
        {
          "name": "stdout",
          "output_type": "stream",
          "text": [
            "Enter phone number to check: 8000000000\n",
            "\n",
            "📞 Number: 8000000000\n",
            "🔎 Status: Unknown\n",
            "\n",
            "Do you want to report this number? (yes/no): no\n"
          ]
        }
      ]
    },
    {
      "cell_type": "markdown",
      "source": [
        "Step 5: Count Reports & Show Risk Level"
      ],
      "metadata": {
        "id": "rAFZcQKsMa9M"
      }
    },
    {
      "cell_type": "code",
      "source": [
        "def get_risk_level(phone):\n",
        "    with open(\"scam_reports.json\", \"r\") as f:\n",
        "        reports = json.load(f)\n",
        "\n",
        "    count = sum(1 for r in reports if r[\"number\"] == phone)\n",
        "\n",
        "    if count == 0:\n",
        "        return \"Low\"\n",
        "    elif count <= 3:\n",
        "        return \"Medium\"\n",
        "    else:\n",
        "        return \"High\"\n",
        "\n",
        "risk = get_risk_level(phone)\n",
        "print(f\"\\n🛡️ Scam Risk Level: {risk}\")\n"
      ],
      "metadata": {
        "colab": {
          "base_uri": "https://localhost:8080/"
        },
        "id": "idUpcAVZLoVm",
        "outputId": "a3900229-7a50-47d2-9a40-73d4789102f8"
      },
      "execution_count": 6,
      "outputs": [
        {
          "output_type": "stream",
          "name": "stdout",
          "text": [
            "\n",
            "🛡️ Scam Risk Level: Medium\n"
          ]
        }
      ]
    },
    {
      "cell_type": "markdown",
      "source": [
        "Save JSON as Downloadable Files"
      ],
      "metadata": {
        "id": "7apCB9WWMgJX"
      }
    },
    {
      "cell_type": "code",
      "source": [
        "from google.colab import files\n",
        "files.download(\"scam_reports.json\")\n",
        "files.download(\"verified_numbers.json\")\n"
      ],
      "metadata": {
        "colab": {
          "base_uri": "https://localhost:8080/",
          "height": 17
        },
        "id": "3AzwUIBULx6_",
        "outputId": "318aaa34-9f72-4ca8-8059-3dc8391a2355"
      },
      "execution_count": 7,
      "outputs": [
        {
          "output_type": "display_data",
          "data": {
            "text/plain": [
              "<IPython.core.display.Javascript object>"
            ],
            "application/javascript": [
              "\n",
              "    async function download(id, filename, size) {\n",
              "      if (!google.colab.kernel.accessAllowed) {\n",
              "        return;\n",
              "      }\n",
              "      const div = document.createElement('div');\n",
              "      const label = document.createElement('label');\n",
              "      label.textContent = `Downloading \"${filename}\": `;\n",
              "      div.appendChild(label);\n",
              "      const progress = document.createElement('progress');\n",
              "      progress.max = size;\n",
              "      div.appendChild(progress);\n",
              "      document.body.appendChild(div);\n",
              "\n",
              "      const buffers = [];\n",
              "      let downloaded = 0;\n",
              "\n",
              "      const channel = await google.colab.kernel.comms.open(id);\n",
              "      // Send a message to notify the kernel that we're ready.\n",
              "      channel.send({})\n",
              "\n",
              "      for await (const message of channel.messages) {\n",
              "        // Send a message to notify the kernel that we're ready.\n",
              "        channel.send({})\n",
              "        if (message.buffers) {\n",
              "          for (const buffer of message.buffers) {\n",
              "            buffers.push(buffer);\n",
              "            downloaded += buffer.byteLength;\n",
              "            progress.value = downloaded;\n",
              "          }\n",
              "        }\n",
              "      }\n",
              "      const blob = new Blob(buffers, {type: 'application/binary'});\n",
              "      const a = document.createElement('a');\n",
              "      a.href = window.URL.createObjectURL(blob);\n",
              "      a.download = filename;\n",
              "      div.appendChild(a);\n",
              "      a.click();\n",
              "      div.remove();\n",
              "    }\n",
              "  "
            ]
          },
          "metadata": {}
        },
        {
          "output_type": "display_data",
          "data": {
            "text/plain": [
              "<IPython.core.display.Javascript object>"
            ],
            "application/javascript": [
              "download(\"download_1f19226c-4bf5-4109-bebc-61d197bae41c\", \"scam_reports.json\", 74)"
            ]
          },
          "metadata": {}
        },
        {
          "output_type": "display_data",
          "data": {
            "text/plain": [
              "<IPython.core.display.Javascript object>"
            ],
            "application/javascript": [
              "\n",
              "    async function download(id, filename, size) {\n",
              "      if (!google.colab.kernel.accessAllowed) {\n",
              "        return;\n",
              "      }\n",
              "      const div = document.createElement('div');\n",
              "      const label = document.createElement('label');\n",
              "      label.textContent = `Downloading \"${filename}\": `;\n",
              "      div.appendChild(label);\n",
              "      const progress = document.createElement('progress');\n",
              "      progress.max = size;\n",
              "      div.appendChild(progress);\n",
              "      document.body.appendChild(div);\n",
              "\n",
              "      const buffers = [];\n",
              "      let downloaded = 0;\n",
              "\n",
              "      const channel = await google.colab.kernel.comms.open(id);\n",
              "      // Send a message to notify the kernel that we're ready.\n",
              "      channel.send({})\n",
              "\n",
              "      for await (const message of channel.messages) {\n",
              "        // Send a message to notify the kernel that we're ready.\n",
              "        channel.send({})\n",
              "        if (message.buffers) {\n",
              "          for (const buffer of message.buffers) {\n",
              "            buffers.push(buffer);\n",
              "            downloaded += buffer.byteLength;\n",
              "            progress.value = downloaded;\n",
              "          }\n",
              "        }\n",
              "      }\n",
              "      const blob = new Blob(buffers, {type: 'application/binary'});\n",
              "      const a = document.createElement('a');\n",
              "      a.href = window.URL.createObjectURL(blob);\n",
              "      a.download = filename;\n",
              "      div.appendChild(a);\n",
              "      a.click();\n",
              "      div.remove();\n",
              "    }\n",
              "  "
            ]
          },
          "metadata": {}
        },
        {
          "output_type": "display_data",
          "data": {
            "text/plain": [
              "<IPython.core.display.Javascript object>"
            ],
            "application/javascript": [
              "download(\"download_49086e18-d54b-4ee8-bcef-98762c8aeb2f\", \"verified_numbers.json\", 264)"
            ]
          },
          "metadata": {}
        }
      ]
    }
  ]
}