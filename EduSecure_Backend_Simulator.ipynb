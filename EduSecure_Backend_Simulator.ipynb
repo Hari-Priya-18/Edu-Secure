{
  "nbformat": 4,
  "nbformat_minor": 0,
  "metadata": {
    "colab": {
      "provenance": [],
      "authorship_tag": "ABX9TyMpW3WKfVlNFf02i9n+yUza",
      "include_colab_link": true
    },
    "kernelspec": {
      "name": "python3",
      "display_name": "Python 3"
    },
    "language_info": {
      "name": "python"
    }
  },
  "cells": [
    {
      "cell_type": "markdown",
      "metadata": {
        "id": "view-in-github",
        "colab_type": "text"
      },
      "source": [
        "<a href=\"https://colab.research.google.com/github/Hari-Priya-18/Edu-Secure/blob/main/EduSecure_Backend_Simulator.ipynb\" target=\"_parent\"><img src=\"https://colab.research.google.com/assets/colab-badge.svg\" alt=\"Open In Colab\"/></a>"
      ]
    },
    {
      "cell_type": "markdown",
      "source": [
        "Day - 1"
      ],
      "metadata": {
        "id": "M2CiGy8Z9icm"
      }
    },
    {
      "cell_type": "markdown",
      "source": [
        "Step 1: Create Verified Numbers JSON"
      ],
      "metadata": {
        "id": "FYV1d99gL6uR"
      }
    },
    {
      "cell_type": "code",
      "execution_count": null,
      "metadata": {
        "id": "BMEoJIBDJMtK"
      },
      "outputs": [],
      "source": [
        "import json\n",
        "\n",
        "verified_data = [\n",
        "    {\"number\": \"9876540321\", \"status\": \"Verified\", \"org\": \"SkillBoost Academy\"},\n",
        "    {\"number\": \"9123456780\", \"status\": \"Scam\", \"org\": \"Fake Course Seller\"},\n",
        "    {\"number\": \"8000000000\", \"status\": \"Unknown\", \"org\": \"\"}\n",
        "]\n",
        "\n",
        "with open(\"verified_numbers.json\", \"w\") as f:\n",
        "    json.dump(verified_data, f, indent=2)\n"
      ]
    },
    {
      "cell_type": "markdown",
      "source": [
        "Step 2: Create an Empty Report Database"
      ],
      "metadata": {
        "id": "v5zpfqtaMAj0"
      }
    },
    {
      "cell_type": "code",
      "source": [
        "scam_reports = []\n",
        "with open(\"scam_reports.json\", \"w\") as f:\n",
        "    json.dump(scam_reports, f, indent=2)\n"
      ],
      "metadata": {
        "id": "KI20KrGoK7iY"
      },
      "execution_count": null,
      "outputs": []
    },
    {
      "cell_type": "markdown",
      "source": [
        " Step 3: Function to Lookup Number and Display Status"
      ],
      "metadata": {
        "id": "cYLKYTAqMKiX"
      }
    },
    {
      "cell_type": "code",
      "source": [
        "def lookup_number(phone):\n",
        "    with open(\"verified_numbers.json\", \"r\") as f:\n",
        "        data = json.load(f)\n",
        "\n",
        "    for entry in data:\n",
        "        if entry[\"number\"] == phone:\n",
        "            return entry\n",
        "    return {\"number\": phone, \"status\": \"Unknown\", \"org\": \"\"}\n"
      ],
      "metadata": {
        "id": "rQC2ShnkLCGA"
      },
      "execution_count": null,
      "outputs": []
    },
    {
      "cell_type": "markdown",
      "source": [
        "Step 4: Input from User + Report Option\n"
      ],
      "metadata": {
        "id": "MMZKRnCYMQWN"
      }
    },
    {
      "cell_type": "code",
      "source": [
        "phone = input(\"Enter phone number to check: \")\n",
        "info = lookup_number(phone)\n",
        "\n",
        "print(f\"\\n📞 Number: {info['number']}\")\n",
        "print(f\"🔎 Status: {info['status']}\")\n",
        "if info[\"org\"]:\n",
        "    print(f\"🏢 Organization: {info['org']}\")\n",
        "\n",
        "# Ask user to report\n",
        "should_report = input(\"\\nDo you want to report this number? (yes/no): \").strip().lower()\n",
        "\n",
        "if should_report == \"yes\":\n",
        "    report = {\n",
        "        \"number\": info[\"number\"],\n",
        "        \"reason\": input(\"Enter reason for report: \")\n",
        "    }\n",
        "    with open(\"scam_reports.json\", \"r\") as f:\n",
        "        reports = json.load(f)\n",
        "\n",
        "    reports.append(report)\n",
        "\n",
        "    with open(\"scam_reports.json\", \"w\") as f:\n",
        "        json.dump(reports, f, indent=2)\n",
        "\n",
        "    print(\"\\n✅ Report submitted!\")\n"
      ],
      "metadata": {
        "colab": {
          "base_uri": "https://localhost:8080/"
        },
        "id": "XVvB4peCLEsu",
        "outputId": "6e126e5f-91c0-4bc2-ed21-b044c1bec66c"
      },
      "execution_count": null,
      "outputs": [
        {
          "name": "stdout",
          "output_type": "stream",
          "text": [
            "Enter phone number to check: 8000000000\n",
            "\n",
            "📞 Number: 8000000000\n",
            "🔎 Status: Unknown\n",
            "\n",
            "Do you want to report this number? (yes/no): no\n"
          ]
        }
      ]
    },
    {
      "cell_type": "markdown",
      "source": [
        "Step 5: Count Reports & Show Risk Level"
      ],
      "metadata": {
        "id": "rAFZcQKsMa9M"
      }
    },
    {
      "cell_type": "code",
      "source": [
        "def get_risk_level(phone):\n",
        "    with open(\"scam_reports.json\", \"r\") as f:\n",
        "        reports = json.load(f)\n",
        "\n",
        "    count = sum(1 for r in reports if r[\"number\"] == phone)\n",
        "\n",
        "    if count == 0:\n",
        "        return \"Low\"\n",
        "    elif count <= 3:\n",
        "        return \"Medium\"\n",
        "    else:\n",
        "        return \"High\"\n",
        "\n",
        "risk = get_risk_level(phone)\n",
        "print(f\"\\n🛡️ Scam Risk Level: {risk}\")\n"
      ],
      "metadata": {
        "colab": {
          "base_uri": "https://localhost:8080/"
        },
        "id": "idUpcAVZLoVm",
        "outputId": "a3900229-7a50-47d2-9a40-73d4789102f8"
      },
      "execution_count": null,
      "outputs": [
        {
          "output_type": "stream",
          "name": "stdout",
          "text": [
            "\n",
            "🛡️ Scam Risk Level: Medium\n"
          ]
        }
      ]
    },
    {
      "cell_type": "markdown",
      "source": [
        "Save JSON as Downloadable Files"
      ],
      "metadata": {
        "id": "7apCB9WWMgJX"
      }
    },
    {
      "cell_type": "code",
      "source": [
        "from google.colab import files\n",
        "files.download(\"scam_reports.json\")\n",
        "files.download(\"verified_numbers.json\")\n"
      ],
      "metadata": {
        "colab": {
          "base_uri": "https://localhost:8080/",
          "height": 17
        },
        "id": "3AzwUIBULx6_",
        "outputId": "318aaa34-9f72-4ca8-8059-3dc8391a2355"
      },
      "execution_count": null,
      "outputs": [
        {
          "output_type": "display_data",
          "data": {
            "text/plain": [
              "<IPython.core.display.Javascript object>"
            ],
            "application/javascript": [
              "\n",
              "    async function download(id, filename, size) {\n",
              "      if (!google.colab.kernel.accessAllowed) {\n",
              "        return;\n",
              "      }\n",
              "      const div = document.createElement('div');\n",
              "      const label = document.createElement('label');\n",
              "      label.textContent = `Downloading \"${filename}\": `;\n",
              "      div.appendChild(label);\n",
              "      const progress = document.createElement('progress');\n",
              "      progress.max = size;\n",
              "      div.appendChild(progress);\n",
              "      document.body.appendChild(div);\n",
              "\n",
              "      const buffers = [];\n",
              "      let downloaded = 0;\n",
              "\n",
              "      const channel = await google.colab.kernel.comms.open(id);\n",
              "      // Send a message to notify the kernel that we're ready.\n",
              "      channel.send({})\n",
              "\n",
              "      for await (const message of channel.messages) {\n",
              "        // Send a message to notify the kernel that we're ready.\n",
              "        channel.send({})\n",
              "        if (message.buffers) {\n",
              "          for (const buffer of message.buffers) {\n",
              "            buffers.push(buffer);\n",
              "            downloaded += buffer.byteLength;\n",
              "            progress.value = downloaded;\n",
              "          }\n",
              "        }\n",
              "      }\n",
              "      const blob = new Blob(buffers, {type: 'application/binary'});\n",
              "      const a = document.createElement('a');\n",
              "      a.href = window.URL.createObjectURL(blob);\n",
              "      a.download = filename;\n",
              "      div.appendChild(a);\n",
              "      a.click();\n",
              "      div.remove();\n",
              "    }\n",
              "  "
            ]
          },
          "metadata": {}
        },
        {
          "output_type": "display_data",
          "data": {
            "text/plain": [
              "<IPython.core.display.Javascript object>"
            ],
            "application/javascript": [
              "download(\"download_1f19226c-4bf5-4109-bebc-61d197bae41c\", \"scam_reports.json\", 74)"
            ]
          },
          "metadata": {}
        },
        {
          "output_type": "display_data",
          "data": {
            "text/plain": [
              "<IPython.core.display.Javascript object>"
            ],
            "application/javascript": [
              "\n",
              "    async function download(id, filename, size) {\n",
              "      if (!google.colab.kernel.accessAllowed) {\n",
              "        return;\n",
              "      }\n",
              "      const div = document.createElement('div');\n",
              "      const label = document.createElement('label');\n",
              "      label.textContent = `Downloading \"${filename}\": `;\n",
              "      div.appendChild(label);\n",
              "      const progress = document.createElement('progress');\n",
              "      progress.max = size;\n",
              "      div.appendChild(progress);\n",
              "      document.body.appendChild(div);\n",
              "\n",
              "      const buffers = [];\n",
              "      let downloaded = 0;\n",
              "\n",
              "      const channel = await google.colab.kernel.comms.open(id);\n",
              "      // Send a message to notify the kernel that we're ready.\n",
              "      channel.send({})\n",
              "\n",
              "      for await (const message of channel.messages) {\n",
              "        // Send a message to notify the kernel that we're ready.\n",
              "        channel.send({})\n",
              "        if (message.buffers) {\n",
              "          for (const buffer of message.buffers) {\n",
              "            buffers.push(buffer);\n",
              "            downloaded += buffer.byteLength;\n",
              "            progress.value = downloaded;\n",
              "          }\n",
              "        }\n",
              "      }\n",
              "      const blob = new Blob(buffers, {type: 'application/binary'});\n",
              "      const a = document.createElement('a');\n",
              "      a.href = window.URL.createObjectURL(blob);\n",
              "      a.download = filename;\n",
              "      div.appendChild(a);\n",
              "      a.click();\n",
              "      div.remove();\n",
              "    }\n",
              "  "
            ]
          },
          "metadata": {}
        },
        {
          "output_type": "display_data",
          "data": {
            "text/plain": [
              "<IPython.core.display.Javascript object>"
            ],
            "application/javascript": [
              "download(\"download_49086e18-d54b-4ee8-bcef-98762c8aeb2f\", \"verified_numbers.json\", 264)"
            ]
          },
          "metadata": {}
        }
      ]
    },
    {
      "cell_type": "markdown",
      "source": [
        "Day - 2"
      ],
      "metadata": {
        "id": "ip9wy7_a9mJE"
      }
    },
    {
      "cell_type": "markdown",
      "source": [
        "Step 1: Overwrite scam_reports.json (run this once)"
      ],
      "metadata": {
        "id": "b7zXZA9R9oNM"
      }
    },
    {
      "cell_type": "code",
      "source": [
        "import json\n",
        "\n",
        "scam_reports = {}\n",
        "with open(\"scam_reports.json\", \"w\") as f:\n",
        "    json.dump(scam_reports, f, indent=2)\n"
      ],
      "metadata": {
        "id": "WbDZrGk39uHK"
      },
      "execution_count": 1,
      "outputs": []
    },
    {
      "cell_type": "markdown",
      "source": [
        "Step 2: Set up a scam_reports.json file that stores reasons grouped by phone number"
      ],
      "metadata": {
        "id": "QWHnoZ2_93kT"
      }
    },
    {
      "cell_type": "code",
      "source": [
        "import json\n",
        "\n",
        "scam_reports = {\n",
        "    \"9876543210\": [\"fake internship\", \"asked for money\"],\n",
        "    \"9123456780\": [\"invalid edtech claim\"]\n",
        "}\n",
        "\n",
        "with open(\"scam_reports.json\", \"w\") as f:\n",
        "    json.dump(scam_reports, f, indent=2)\n"
      ],
      "metadata": {
        "id": "tucOkU7p9_ao"
      },
      "execution_count": 2,
      "outputs": []
    },
    {
      "cell_type": "markdown",
      "source": [
        "Step 3: Update your report logic to append reasons by number"
      ],
      "metadata": {
        "id": "c3pw1fpZ-GCO"
      }
    },
    {
      "cell_type": "code",
      "source": [
        "def add_report(number, reason):\n",
        "    with open(\"scam_reports.json\", \"r\") as f:\n",
        "        reports = json.load(f)\n",
        "\n",
        "    if number in reports:\n",
        "        reports[number].append(reason)\n",
        "    else:\n",
        "        reports[number] = [reason]\n",
        "\n",
        "    with open(\"scam_reports.json\", \"w\") as f:\n",
        "        json.dump(reports, f, indent=2)\n"
      ],
      "metadata": {
        "id": "ks_WWUCJ-C-r"
      },
      "execution_count": 3,
      "outputs": []
    },
    {
      "cell_type": "markdown",
      "source": [
        "Then call this function in your main code:"
      ],
      "metadata": {
        "id": "onkFwTyn-MV4"
      }
    },
    {
      "cell_type": "code",
      "source": [
        "phone = input(\"Enter number to report: \")\n",
        "reason = input(\"Enter reason: \")\n",
        "add_report(phone, reason)\n",
        "print(\"✅ Report added successfully.\")\n"
      ],
      "metadata": {
        "id": "r7_kuz6a-L3n",
        "outputId": "8ae7868a-a21e-4a71-8f18-8ce59d06acf8",
        "colab": {
          "base_uri": "https://localhost:8080/"
        }
      },
      "execution_count": 4,
      "outputs": [
        {
          "output_type": "stream",
          "name": "stdout",
          "text": [
            "Enter number to report: 9876543210\n",
            "Enter reason: fake internship\n",
            "✅ Report added successfully.\n"
          ]
        }
      ]
    },
    {
      "cell_type": "markdown",
      "source": [
        "Step 4: Define risk level logic based on report count"
      ],
      "metadata": {
        "id": "kgib193J-g-8"
      }
    },
    {
      "cell_type": "code",
      "source": [
        "def get_risk_level(report_count):\n",
        "    if report_count == 0:\n",
        "        return \"Low\"\n",
        "    elif report_count <= 3:\n",
        "        return \"Medium\"\n",
        "    else:\n",
        "        return \"High\"\n"
      ],
      "metadata": {
        "id": "B_HUGxLx-nBf"
      },
      "execution_count": 5,
      "outputs": []
    },
    {
      "cell_type": "markdown",
      "source": [
        "Step 5: Display a dashboard of all reported numbers"
      ],
      "metadata": {
        "id": "XHEDDPep-qit"
      }
    },
    {
      "cell_type": "code",
      "source": [
        "import pandas as pd\n",
        "\n",
        "def show_dashboard():\n",
        "    with open(\"scam_reports.json\", \"r\") as f:\n",
        "        reports = json.load(f)\n",
        "\n",
        "    data = []\n",
        "    for number, reasons in reports.items():\n",
        "        count = len(reasons)\n",
        "        risk = get_risk_level(count)\n",
        "        data.append({\"Number\": number, \"Reports\": count, \"Risk Level\": risk})\n",
        "\n",
        "    df = pd.DataFrame(data)\n",
        "    display(df.sort_values(by=\"Reports\", ascending=False))\n"
      ],
      "metadata": {
        "id": "Deyl6TT--u2k"
      },
      "execution_count": 6,
      "outputs": []
    },
    {
      "cell_type": "code",
      "source": [
        "show_dashboard()\n"
      ],
      "metadata": {
        "id": "z4Vk-LXE-2GG",
        "outputId": "e99b1522-24a6-4370-bbbe-711b094b5165",
        "colab": {
          "base_uri": "https://localhost:8080/",
          "height": 112
        }
      },
      "execution_count": 7,
      "outputs": [
        {
          "output_type": "display_data",
          "data": {
            "text/plain": [
              "       Number  Reports Risk Level\n",
              "0  9876543210        3     Medium\n",
              "1  9123456780        1     Medium"
            ],
            "text/html": [
              "\n",
              "  <div id=\"df-1c81b1b8-c616-4c94-9cc0-bd4ff3936060\" class=\"colab-df-container\">\n",
              "    <div>\n",
              "<style scoped>\n",
              "    .dataframe tbody tr th:only-of-type {\n",
              "        vertical-align: middle;\n",
              "    }\n",
              "\n",
              "    .dataframe tbody tr th {\n",
              "        vertical-align: top;\n",
              "    }\n",
              "\n",
              "    .dataframe thead th {\n",
              "        text-align: right;\n",
              "    }\n",
              "</style>\n",
              "<table border=\"1\" class=\"dataframe\">\n",
              "  <thead>\n",
              "    <tr style=\"text-align: right;\">\n",
              "      <th></th>\n",
              "      <th>Number</th>\n",
              "      <th>Reports</th>\n",
              "      <th>Risk Level</th>\n",
              "    </tr>\n",
              "  </thead>\n",
              "  <tbody>\n",
              "    <tr>\n",
              "      <th>0</th>\n",
              "      <td>9876543210</td>\n",
              "      <td>3</td>\n",
              "      <td>Medium</td>\n",
              "    </tr>\n",
              "    <tr>\n",
              "      <th>1</th>\n",
              "      <td>9123456780</td>\n",
              "      <td>1</td>\n",
              "      <td>Medium</td>\n",
              "    </tr>\n",
              "  </tbody>\n",
              "</table>\n",
              "</div>\n",
              "    <div class=\"colab-df-buttons\">\n",
              "\n",
              "  <div class=\"colab-df-container\">\n",
              "    <button class=\"colab-df-convert\" onclick=\"convertToInteractive('df-1c81b1b8-c616-4c94-9cc0-bd4ff3936060')\"\n",
              "            title=\"Convert this dataframe to an interactive table.\"\n",
              "            style=\"display:none;\">\n",
              "\n",
              "  <svg xmlns=\"http://www.w3.org/2000/svg\" height=\"24px\" viewBox=\"0 -960 960 960\">\n",
              "    <path d=\"M120-120v-720h720v720H120Zm60-500h600v-160H180v160Zm220 220h160v-160H400v160Zm0 220h160v-160H400v160ZM180-400h160v-160H180v160Zm440 0h160v-160H620v160ZM180-180h160v-160H180v160Zm440 0h160v-160H620v160Z\"/>\n",
              "  </svg>\n",
              "    </button>\n",
              "\n",
              "  <style>\n",
              "    .colab-df-container {\n",
              "      display:flex;\n",
              "      gap: 12px;\n",
              "    }\n",
              "\n",
              "    .colab-df-convert {\n",
              "      background-color: #E8F0FE;\n",
              "      border: none;\n",
              "      border-radius: 50%;\n",
              "      cursor: pointer;\n",
              "      display: none;\n",
              "      fill: #1967D2;\n",
              "      height: 32px;\n",
              "      padding: 0 0 0 0;\n",
              "      width: 32px;\n",
              "    }\n",
              "\n",
              "    .colab-df-convert:hover {\n",
              "      background-color: #E2EBFA;\n",
              "      box-shadow: 0px 1px 2px rgba(60, 64, 67, 0.3), 0px 1px 3px 1px rgba(60, 64, 67, 0.15);\n",
              "      fill: #174EA6;\n",
              "    }\n",
              "\n",
              "    .colab-df-buttons div {\n",
              "      margin-bottom: 4px;\n",
              "    }\n",
              "\n",
              "    [theme=dark] .colab-df-convert {\n",
              "      background-color: #3B4455;\n",
              "      fill: #D2E3FC;\n",
              "    }\n",
              "\n",
              "    [theme=dark] .colab-df-convert:hover {\n",
              "      background-color: #434B5C;\n",
              "      box-shadow: 0px 1px 3px 1px rgba(0, 0, 0, 0.15);\n",
              "      filter: drop-shadow(0px 1px 2px rgba(0, 0, 0, 0.3));\n",
              "      fill: #FFFFFF;\n",
              "    }\n",
              "  </style>\n",
              "\n",
              "    <script>\n",
              "      const buttonEl =\n",
              "        document.querySelector('#df-1c81b1b8-c616-4c94-9cc0-bd4ff3936060 button.colab-df-convert');\n",
              "      buttonEl.style.display =\n",
              "        google.colab.kernel.accessAllowed ? 'block' : 'none';\n",
              "\n",
              "      async function convertToInteractive(key) {\n",
              "        const element = document.querySelector('#df-1c81b1b8-c616-4c94-9cc0-bd4ff3936060');\n",
              "        const dataTable =\n",
              "          await google.colab.kernel.invokeFunction('convertToInteractive',\n",
              "                                                    [key], {});\n",
              "        if (!dataTable) return;\n",
              "\n",
              "        const docLinkHtml = 'Like what you see? Visit the ' +\n",
              "          '<a target=\"_blank\" href=https://colab.research.google.com/notebooks/data_table.ipynb>data table notebook</a>'\n",
              "          + ' to learn more about interactive tables.';\n",
              "        element.innerHTML = '';\n",
              "        dataTable['output_type'] = 'display_data';\n",
              "        await google.colab.output.renderOutput(dataTable, element);\n",
              "        const docLink = document.createElement('div');\n",
              "        docLink.innerHTML = docLinkHtml;\n",
              "        element.appendChild(docLink);\n",
              "      }\n",
              "    </script>\n",
              "  </div>\n",
              "\n",
              "\n",
              "    <div id=\"df-883ef387-1aa3-49d6-a7b7-4859c0dcc879\">\n",
              "      <button class=\"colab-df-quickchart\" onclick=\"quickchart('df-883ef387-1aa3-49d6-a7b7-4859c0dcc879')\"\n",
              "                title=\"Suggest charts\"\n",
              "                style=\"display:none;\">\n",
              "\n",
              "<svg xmlns=\"http://www.w3.org/2000/svg\" height=\"24px\"viewBox=\"0 0 24 24\"\n",
              "     width=\"24px\">\n",
              "    <g>\n",
              "        <path d=\"M19 3H5c-1.1 0-2 .9-2 2v14c0 1.1.9 2 2 2h14c1.1 0 2-.9 2-2V5c0-1.1-.9-2-2-2zM9 17H7v-7h2v7zm4 0h-2V7h2v10zm4 0h-2v-4h2v4z\"/>\n",
              "    </g>\n",
              "</svg>\n",
              "      </button>\n",
              "\n",
              "<style>\n",
              "  .colab-df-quickchart {\n",
              "      --bg-color: #E8F0FE;\n",
              "      --fill-color: #1967D2;\n",
              "      --hover-bg-color: #E2EBFA;\n",
              "      --hover-fill-color: #174EA6;\n",
              "      --disabled-fill-color: #AAA;\n",
              "      --disabled-bg-color: #DDD;\n",
              "  }\n",
              "\n",
              "  [theme=dark] .colab-df-quickchart {\n",
              "      --bg-color: #3B4455;\n",
              "      --fill-color: #D2E3FC;\n",
              "      --hover-bg-color: #434B5C;\n",
              "      --hover-fill-color: #FFFFFF;\n",
              "      --disabled-bg-color: #3B4455;\n",
              "      --disabled-fill-color: #666;\n",
              "  }\n",
              "\n",
              "  .colab-df-quickchart {\n",
              "    background-color: var(--bg-color);\n",
              "    border: none;\n",
              "    border-radius: 50%;\n",
              "    cursor: pointer;\n",
              "    display: none;\n",
              "    fill: var(--fill-color);\n",
              "    height: 32px;\n",
              "    padding: 0;\n",
              "    width: 32px;\n",
              "  }\n",
              "\n",
              "  .colab-df-quickchart:hover {\n",
              "    background-color: var(--hover-bg-color);\n",
              "    box-shadow: 0 1px 2px rgba(60, 64, 67, 0.3), 0 1px 3px 1px rgba(60, 64, 67, 0.15);\n",
              "    fill: var(--button-hover-fill-color);\n",
              "  }\n",
              "\n",
              "  .colab-df-quickchart-complete:disabled,\n",
              "  .colab-df-quickchart-complete:disabled:hover {\n",
              "    background-color: var(--disabled-bg-color);\n",
              "    fill: var(--disabled-fill-color);\n",
              "    box-shadow: none;\n",
              "  }\n",
              "\n",
              "  .colab-df-spinner {\n",
              "    border: 2px solid var(--fill-color);\n",
              "    border-color: transparent;\n",
              "    border-bottom-color: var(--fill-color);\n",
              "    animation:\n",
              "      spin 1s steps(1) infinite;\n",
              "  }\n",
              "\n",
              "  @keyframes spin {\n",
              "    0% {\n",
              "      border-color: transparent;\n",
              "      border-bottom-color: var(--fill-color);\n",
              "      border-left-color: var(--fill-color);\n",
              "    }\n",
              "    20% {\n",
              "      border-color: transparent;\n",
              "      border-left-color: var(--fill-color);\n",
              "      border-top-color: var(--fill-color);\n",
              "    }\n",
              "    30% {\n",
              "      border-color: transparent;\n",
              "      border-left-color: var(--fill-color);\n",
              "      border-top-color: var(--fill-color);\n",
              "      border-right-color: var(--fill-color);\n",
              "    }\n",
              "    40% {\n",
              "      border-color: transparent;\n",
              "      border-right-color: var(--fill-color);\n",
              "      border-top-color: var(--fill-color);\n",
              "    }\n",
              "    60% {\n",
              "      border-color: transparent;\n",
              "      border-right-color: var(--fill-color);\n",
              "    }\n",
              "    80% {\n",
              "      border-color: transparent;\n",
              "      border-right-color: var(--fill-color);\n",
              "      border-bottom-color: var(--fill-color);\n",
              "    }\n",
              "    90% {\n",
              "      border-color: transparent;\n",
              "      border-bottom-color: var(--fill-color);\n",
              "    }\n",
              "  }\n",
              "</style>\n",
              "\n",
              "      <script>\n",
              "        async function quickchart(key) {\n",
              "          const quickchartButtonEl =\n",
              "            document.querySelector('#' + key + ' button');\n",
              "          quickchartButtonEl.disabled = true;  // To prevent multiple clicks.\n",
              "          quickchartButtonEl.classList.add('colab-df-spinner');\n",
              "          try {\n",
              "            const charts = await google.colab.kernel.invokeFunction(\n",
              "                'suggestCharts', [key], {});\n",
              "          } catch (error) {\n",
              "            console.error('Error during call to suggestCharts:', error);\n",
              "          }\n",
              "          quickchartButtonEl.classList.remove('colab-df-spinner');\n",
              "          quickchartButtonEl.classList.add('colab-df-quickchart-complete');\n",
              "        }\n",
              "        (() => {\n",
              "          let quickchartButtonEl =\n",
              "            document.querySelector('#df-883ef387-1aa3-49d6-a7b7-4859c0dcc879 button');\n",
              "          quickchartButtonEl.style.display =\n",
              "            google.colab.kernel.accessAllowed ? 'block' : 'none';\n",
              "        })();\n",
              "      </script>\n",
              "    </div>\n",
              "\n",
              "    </div>\n",
              "  </div>\n"
            ],
            "application/vnd.google.colaboratory.intrinsic+json": {
              "type": "dataframe",
              "summary": "{\n  \"name\": \"show_dashboard()\",\n  \"rows\": 2,\n  \"fields\": [\n    {\n      \"column\": \"Number\",\n      \"properties\": {\n        \"dtype\": \"string\",\n        \"num_unique_values\": 2,\n        \"samples\": [\n          \"9123456780\",\n          \"9876543210\"\n        ],\n        \"semantic_type\": \"\",\n        \"description\": \"\"\n      }\n    },\n    {\n      \"column\": \"Reports\",\n      \"properties\": {\n        \"dtype\": \"number\",\n        \"std\": 1,\n        \"min\": 1,\n        \"max\": 3,\n        \"num_unique_values\": 2,\n        \"samples\": [\n          1,\n          3\n        ],\n        \"semantic_type\": \"\",\n        \"description\": \"\"\n      }\n    },\n    {\n      \"column\": \"Risk Level\",\n      \"properties\": {\n        \"dtype\": \"string\",\n        \"num_unique_values\": 1,\n        \"samples\": [\n          \"Medium\"\n        ],\n        \"semantic_type\": \"\",\n        \"description\": \"\"\n      }\n    }\n  ]\n}"
            }
          },
          "metadata": {}
        }
      ]
    },
    {
      "cell_type": "markdown",
      "source": [
        "Step 5: Bonus – Export report database for download"
      ],
      "metadata": {
        "id": "9CIV193F--tq"
      }
    },
    {
      "cell_type": "code",
      "source": [
        "from google.colab import files\n",
        "files.download(\"scam_reports.json\")\n"
      ],
      "metadata": {
        "id": "G2gYnvy5_Eoz",
        "outputId": "e8918a17-d741-45a6-a711-b0f3a5eef93e",
        "colab": {
          "base_uri": "https://localhost:8080/",
          "height": 17
        }
      },
      "execution_count": 8,
      "outputs": [
        {
          "output_type": "display_data",
          "data": {
            "text/plain": [
              "<IPython.core.display.Javascript object>"
            ],
            "application/javascript": [
              "\n",
              "    async function download(id, filename, size) {\n",
              "      if (!google.colab.kernel.accessAllowed) {\n",
              "        return;\n",
              "      }\n",
              "      const div = document.createElement('div');\n",
              "      const label = document.createElement('label');\n",
              "      label.textContent = `Downloading \"${filename}\": `;\n",
              "      div.appendChild(label);\n",
              "      const progress = document.createElement('progress');\n",
              "      progress.max = size;\n",
              "      div.appendChild(progress);\n",
              "      document.body.appendChild(div);\n",
              "\n",
              "      const buffers = [];\n",
              "      let downloaded = 0;\n",
              "\n",
              "      const channel = await google.colab.kernel.comms.open(id);\n",
              "      // Send a message to notify the kernel that we're ready.\n",
              "      channel.send({})\n",
              "\n",
              "      for await (const message of channel.messages) {\n",
              "        // Send a message to notify the kernel that we're ready.\n",
              "        channel.send({})\n",
              "        if (message.buffers) {\n",
              "          for (const buffer of message.buffers) {\n",
              "            buffers.push(buffer);\n",
              "            downloaded += buffer.byteLength;\n",
              "            progress.value = downloaded;\n",
              "          }\n",
              "        }\n",
              "      }\n",
              "      const blob = new Blob(buffers, {type: 'application/binary'});\n",
              "      const a = document.createElement('a');\n",
              "      a.href = window.URL.createObjectURL(blob);\n",
              "      a.download = filename;\n",
              "      div.appendChild(a);\n",
              "      a.click();\n",
              "      div.remove();\n",
              "    }\n",
              "  "
            ]
          },
          "metadata": {}
        },
        {
          "output_type": "display_data",
          "data": {
            "text/plain": [
              "<IPython.core.display.Javascript object>"
            ],
            "application/javascript": [
              "download(\"download_a2a8f81a-8a7d-4974-b750-6b98b0fc525f\", \"scam_reports.json\", 143)"
            ]
          },
          "metadata": {}
        }
      ]
    }
  ]
}