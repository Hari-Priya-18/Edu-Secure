{
  "nbformat": 4,
  "nbformat_minor": 0,
  "metadata": {
    "colab": {
      "provenance": []
    },
    "kernelspec": {
      "name": "python3",
      "display_name": "Python 3"
    },
    "language_info": {
      "name": "python"
    }
  },
  "cells": [
    {
      "cell_type": "code",
      "source": [
        "import json\n",
        "import pandas as pd\n",
        "import ipywidgets as widgets\n",
        "from IPython.display import display, clear_output\n"
      ],
      "metadata": {
        "id": "2y5UFZbkLHW3"
      },
      "execution_count": 14,
      "outputs": []
    },
    {
      "cell_type": "code",
      "source": [
        "# Load Verified Numbers\n",
        "try:\n",
        "    with open(\"scam_reports.json\", \"r\") as f:\n",
        "        verified_data = json.load(f)\n",
        "except FileNotFoundError:\n",
        "    verified_data = {}\n",
        "    print(\"scam_reports.json not found. Initializing verified_data as empty.\")\n",
        "\n",
        "\n",
        "# Load or initialize Scam Reports\n",
        "try:\n",
        "    with open(\"scam_reports.json\", \"r\") as f:\n",
        "        scam_reports = json.load(f)\n",
        "except FileNotFoundError:\n",
        "    scam_reports = {}\n",
        "    with open(\"scam_reports.json\", \"w\") as f:\n",
        "        json.dump(scam_reports, f, indent=2)\n",
        "    print(\"scam_reports.json not found. Initializing scam_reports as empty and creating the file.\")"
      ],
      "metadata": {
        "colab": {
          "base_uri": "https://localhost:8080/"
        },
        "id": "GQ8VavIdMJXu",
        "outputId": "ca3d1adc-c8ee-4e24-9e01-17b422a16ca1"
      },
      "execution_count": 20,
      "outputs": [
        {
          "output_type": "stream",
          "name": "stdout",
          "text": [
            "scam_reports.json not found. Initializing verified_data as empty.\n",
            "scam_reports.json not found. Initializing scam_reports as empty and creating the file.\n"
          ]
        }
      ]
    },
    {
      "cell_type": "code",
      "source": [
        "def lookup_number(phone):\n",
        "    for entry in verified_data:\n",
        "        if entry[\"number\"] == phone:\n",
        "            return entry\n",
        "    return {\"number\": phone, \"status\": \"Unknown\", \"org\": \"\"}\n",
        "\n",
        "def add_report(number, reason):\n",
        "    with open(\"scam_reports.json\", \"r\") as f:\n",
        "        reports = json.load(f)\n",
        "\n",
        "    if number in reports:\n",
        "        reports[number].append(reason)\n",
        "    else:\n",
        "        reports[number] = [reason]\n",
        "\n",
        "    with open(\"scam_reports.json\", \"w\") as f:\n",
        "        json.dump(reports, f, indent=2)\n",
        "\n",
        "def get_risk_level(phone):\n",
        "    with open(\"scam_reports.json\", \"r\") as f:\n",
        "        reports = json.load(f)\n",
        "\n",
        "    count = len(reports.get(phone, []))\n",
        "\n",
        "    if count == 0:\n",
        "        return \"Low\"\n",
        "    elif count <= 3:\n",
        "        return \"Medium\"\n",
        "    else:\n",
        "        return \"High\"\n"
      ],
      "metadata": {
        "id": "4KS3A1h7Me7I"
      },
      "execution_count": 19,
      "outputs": []
    },
    {
      "cell_type": "code",
      "source": [
        "# UI Elements\n",
        "phone_input = widgets.Text(\n",
        "    description='\ud83d\udcde Number:',\n",
        "    placeholder='Enter phone number',\n",
        "    layout=widgets.Layout(width='300px')\n",
        ")\n",
        "check_button = widgets.Button(description='Check Caller \u2705', button_style='success')\n",
        "dash_button = widgets.Button(description='\ud83d\udcca View Scam Dashboard', button_style='primary')\n",
        "main_output = widgets.Output()\n",
        "\n",
        "def show_report_section(phone):\n",
        "    report_input = widgets.Text(\n",
        "        placeholder=\"Enter reason for report\",\n",
        "        layout=widgets.Layout(width='300px')\n",
        "    )\n",
        "    submit_button = widgets.Button(description='Submit Report \ud83d\udea8', button_style='danger')\n",
        "    report_output = widgets.Output()\n",
        "\n",
        "    def on_submit_clicked(b):\n",
        "        reason = report_input.value.strip()\n",
        "        if reason:\n",
        "            add_report(phone, reason)\n",
        "            report_input.value = \"\"\n",
        "            with report_output:\n",
        "                clear_output()\n",
        "                print(\"\u2705 Report submitted.\")\n",
        "                print(f\"\ud83d\udee1\ufe0f Updated Risk Level: {get_risk_level(phone)}\")\n",
        "\n",
        "    submit_button.on_click(on_submit_clicked)\n",
        "    display(widgets.HTML(\"<b>\ud83d\udce3 Report Scam</b><br>\"))\n",
        "    display(report_input, submit_button, report_output)\n",
        "\n",
        "# Event handler for check_button\n",
        "def on_check_clicked(b):\n",
        "    with main_output:\n",
        "        clear_output()\n",
        "        phone = phone_input.value.strip()\n",
        "        info = lookup_number(phone)\n",
        "\n",
        "        print(f\"\\n\ud83d\udcde Number: {info['number']}\")\n",
        "        print(f\"\ud83d\udd0e Status: {info['status']}\")\n",
        "        if info[\"org\"]:\n",
        "            print(f\"\ud83c\udfe2 Organization: {info['org']}\")\n",
        "        print(f\"\ud83d\udee1\ufe0f Current Risk: {get_risk_level(phone)}\\n\")\n",
        "\n",
        "        show_report_section(phone)\n",
        "\n",
        "# Event handler for dash_button\n",
        "def on_dash_clicked(b):\n",
        "    with main_output:\n",
        "        clear_output()\n",
        "        print(\"\ud83d\udcca Scam Dashboard:\\n\")\n",
        "        show_dashboard()\n",
        "\n",
        "# Attach the handlers\n",
        "check_button.on_click(on_check_clicked)\n",
        "dash_button.on_click(on_dash_clicked)\n",
        "\n",
        "# Display everything\n",
        "display(widgets.VBox([\n",
        "    widgets.HTML(\"<h3>\ud83d\udcf1 EduSecure \u2014 Caller Checker</h3>\"),\n",
        "    phone_input,\n",
        "    widgets.HBox([check_button, dash_button]),\n",
        "    main_output\n",
        "]))\n"
      ],
      "metadata": {
        "colab": {
          "base_uri": "https://localhost:8080/",
          "height": 184,
          "referenced_widgets": [
            "533a046bcf434bb480181af3854c0800",
            "1224e5c3f28b4a9b862036f9bf3e8407",
            "d2f71f2afac84828a7378ec60a65ec3c",
            "24a9ba819f0143e9b7860310a4cf7f11",
            "b81b8bbb8566483da3e1a8ea88d17c2c",
            "6d014a973d184b0ba06311b966949174",
            "bd579c4b86004bffb2fedfb956867b5a",
            "fd00cc86a1be435f90d7599162f59929",
            "dfe36b3969c54d2ba2b034cfd4b245f7",
            "85c167be80df4c47a1240021e4e6f537",
            "a7aa729e3a8c48bfb112f63ff6cfa7af",
            "0dcb4f808bca4438ae29995146f97395",
            "225fa0fc54874803b8d6514d40d2382b",
            "8a27a771f1bb4e69be394e45ef44e077",
            "b9f23047cb1641f2886aba13a186cffd",
            "1dece6960dc4492d8409909d3783fed3",
            "ceb0a655fac6469a8d3921593f71117f",
            "e69541abd56b4c59aa6657afe12c9bd1",
            "4666946564cc415ab53a9484f5acd0d0",
            "b46b0ea26c0545c7a27c3f801b1dcd9e",
            "4f392b87739642e286a4a0839aaaeaa3",
            "f3d437f833b943e59a3f8639d6f01045",
            "f3589b6cbb0c49a4a8f0bc7e64ecac6e",
            "4baca88420534bb98ce25de365f34ede",
            "7f3487cef9a3410fbeeb022035134dbe",
            "07bf009ce31045c6b1d3c2899ed712e7",
            "2f18a68467e2443c8bb95768a1863192",
            "72b2f43581824375b178e2ff14d78b27",
            "7d8b8996a9234d6fbef2c37aa594afbd"
          ]
        },
        "id": "BcP0NpJnLI2D",
        "outputId": "a3f5c125-c955-4d75-913e-d07793ba76f4"
      },
      "execution_count": 17,
      "outputs": [
        {
          "output_type": "display_data",
          "data": {
            "text/plain": [
              "VBox(children=(HTML(value='<h3>\ud83d\udcf1 EduSecure \u2014 Caller Checker</h3>'), Text(value='', description='\ud83d\udcde Number:', la\u2026"
            ],
            "application/vnd.jupyter.widget-view+json": {
              "version_major": 2,
              "version_minor": 0,
              "model_id": "533a046bcf434bb480181af3854c0800"
            }
          },
          "metadata": {}
        }
      ]
    }
  ]
}